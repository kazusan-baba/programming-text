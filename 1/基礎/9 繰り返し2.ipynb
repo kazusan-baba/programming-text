{
 "cells": [
  {
   "attachments": {},
   "cell_type": "markdown",
   "metadata": {},
   "source": [
    "## 繰り返し2\n",
    "「繰り返し」ではwhile文を使いました。while文は適切に条件を設定しないと無限ループに陥って操作できなくなってしまうという危険性も持っています。\n",
    "\n",
    "繰り返す回数が決まっている時には、もっと簡単な「for文」というものがあります。\n",
    "```C#\n",
    "for(初期化式; 継続条件式; 変化式) {\n",
    "    // 処理\n",
    "}\n",
    "```"
   ]
  },
  {
   "attachments": {},
   "cell_type": "markdown",
   "metadata": {},
   "source": [
    "下記のプログラムを改造してiの値を5回表示するプログラムにしましょう。"
   ]
  },
  {
   "cell_type": "code",
   "execution_count": null,
   "metadata": {
    "dotnet_interactive": {
     "language": "csharp"
    },
    "polyglot_notebook": {
     "kernelName": "csharp"
    },
    "vscode": {
     "languageId": "polyglot-notebook"
    }
   },
   "outputs": [],
   "source": [
    "for(int i = 0; i < 5; i++) {\n",
    "    \n",
    "}"
   ]
  }
 ],
 "metadata": {
  "language_info": {
   "name": "csharp"
  },
  "orig_nbformat": 4
 },
 "nbformat": 4,
 "nbformat_minor": 2
}
