{
 "cells": [
  {
   "attachments": {},
   "cell_type": "markdown",
   "metadata": {},
   "source": [
    "## 比較演算子"
   ]
  },
  {
   "attachments": {},
   "cell_type": "markdown",
   "metadata": {},
   "source": [
    "1. 「==」等しい\n",
    "\n",
    "\n",
    "「==」：aとbの値を比べて同じならTrue、違うならFalseを返します。\n",
    "\n",
    "```C#\n",
    "a == b\n",
    "```"
   ]
  },
  {
   "cell_type": "code",
   "execution_count": null,
   "metadata": {
    "dotnet_interactive": {
     "language": "csharp"
    },
    "polyglot_notebook": {
     "kernelName": "csharp"
    },
    "vscode": {
     "languageId": "polyglot-notebook"
    }
   },
   "outputs": [],
   "source": [
    "Console.WriteLine(1 == 1);\n",
    "Console.WriteLine(1 == 2);\n",
    "\n",
    "Console.WriteLine(\"A\" == \"A\");\n",
    "Console.WriteLine(\"A\" == \"B\");"
   ]
  },
  {
   "attachments": {},
   "cell_type": "markdown",
   "metadata": {},
   "source": [
    "2. 「!=」等しくない\n",
    "\n",
    "「!=」：aとbの値を比べて同じならFalse、違うならTrueを返します。\n",
    "\n",
    "```C#\n",
    "a != b\n",
    "```"
   ]
  },
  {
   "cell_type": "code",
   "execution_count": null,
   "metadata": {
    "dotnet_interactive": {
     "language": "csharp"
    },
    "polyglot_notebook": {
     "kernelName": "csharp"
    },
    "vscode": {
     "languageId": "polyglot-notebook"
    }
   },
   "outputs": [],
   "source": [
    "Console.WriteLine(1 != 1);\n",
    "Console.WriteLine(1 != 2);\n",
    "\n",
    "Console.WriteLine(\"A\" != \"A\");\n",
    "Console.WriteLine(\"A\" != \"B\");"
   ]
  },
  {
   "attachments": {},
   "cell_type": "markdown",
   "metadata": {},
   "source": [
    "3. 「>」より大きい、「>=」以上\n",
    "\n",
    "「>」：aとbの値を比べてaの方が大きければTrue、小さければFalseを返します。\n",
    "「>=」：aとbの値を比べてaと同じか大きければTrue、小さければFalseを返します。\n",
    "\n",
    "```C#\n",
    "a > b\n",
    "a >= b\n",
    "```"
   ]
  },
  {
   "cell_type": "code",
   "execution_count": null,
   "metadata": {
    "dotnet_interactive": {
     "language": "csharp"
    },
    "polyglot_notebook": {
     "kernelName": "csharp"
    },
    "vscode": {
     "languageId": "polyglot-notebook"
    }
   },
   "outputs": [],
   "source": [
    "Console.WriteLine(2 > 1);\n",
    "Console.WriteLine(1 > 2);\n",
    "\n",
    "Console.WriteLine(2 > 1);\n",
    "Console.WriteLine(2 >= 2);\n",
    "Console.WriteLine(1 > 2);"
   ]
  }
 ],
 "metadata": {
  "language_info": {
   "name": "csharp"
  },
  "orig_nbformat": 4
 },
 "nbformat": 4,
 "nbformat_minor": 2
}
