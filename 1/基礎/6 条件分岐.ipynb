{
 "cells": [
  {
   "attachments": {},
   "cell_type": "markdown",
   "metadata": {},
   "source": [
    "## 条件分岐\n",
    "\n",
    "条件によってプログラムの動作を変えたいというときに「if文」を使います。「if文」は下記の通りに書きます。\n",
    "```C#\n",
    "if(条件式) {\n",
    "    条件にあった時の処理内容\n",
    "}\n",
    "\n",
    "```\n",
    "\n",
    "    if文は条件式の結果が最終的にTrueになった時に処理が動きます。\n",
    "    条件式には比較演算子「==」「>」「<」がよく用いられます。"
   ]
  },
  {
   "cell_type": "code",
   "execution_count": null,
   "metadata": {
    "vscode": {
     "languageId": "polyglot-notebook"
    }
   },
   "outputs": [],
   "source": [
    "int time = 10;\n",
    "\n",
    "if (7 <= time && time <= 10) {\n",
    "    Console.WriteLine(\"おはよう\");\n",
    "} else if(true) {\n",
    "    // 条件を設定してこんにちはを表示しよう\n",
    "} else {\n",
    "    // こんばんはを表示しよう\n",
    "}"
   ]
  }
 ],
 "metadata": {
  "language_info": {
   "name": "csharp"
  },
  "orig_nbformat": 4
 },
 "nbformat": 4,
 "nbformat_minor": 2
}
