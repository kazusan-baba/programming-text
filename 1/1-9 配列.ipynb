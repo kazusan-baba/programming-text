{
 "cells": [
  {
   "attachments": {},
   "cell_type": "markdown",
   "metadata": {},
   "source": [
    "## 配列\n",
    "\n",
    "今までの方法では1つの変数に1つの値しか入れることができませんでした。そこで配列という機能を使います。\n",
    "\n",
    "```C#\n",
    "型[] 変数名 = new 型[値の個数];\n",
    "変数名[配列の中の番号(index)] = \"Hello\";\n",
    "変数名[配列の中の番号(index)] = \"こんばんは\";\n",
    "```\n",
    "\n",
    "配列にするときは型の後に「[]」を追記します。indexは0から始まります。\n"
   ]
  },
  {
   "cell_type": "code",
   "execution_count": null,
   "metadata": {
    "dotnet_interactive": {
     "language": "csharp"
    },
    "polyglot_notebook": {
     "kernelName": "csharp"
    },
    "vscode": {
     "languageId": "polyglot-notebook"
    }
   },
   "outputs": [],
   "source": [
    "// 例\n",
    "String[] numbers = new String[2];\n",
    "numbers[0] = \"Hello\";\n",
    "numbers[1] = \"こんばんは\";\n",
    "\n",
    "Console.WriteLine(numbers[0]);\n",
    "Console.WriteLine(numbers[1]);"
   ]
  },
  {
   "attachments": {},
   "cell_type": "markdown",
   "metadata": {},
   "source": [
    "例をもとに整数型の配列を作り、その中身を足した値を表示するプログラムを作ってみましょう。"
   ]
  },
  {
   "cell_type": "code",
   "execution_count": null,
   "metadata": {
    "dotnet_interactive": {
     "language": "csharp"
    },
    "polyglot_notebook": {
     "kernelName": "csharp"
    },
    "vscode": {
     "languageId": "polyglot-notebook"
    }
   },
   "outputs": [],
   "source": []
  },
  {
   "attachments": {},
   "cell_type": "markdown",
   "metadata": {},
   "source": [
    "### 簡単に配列を宣言する方法\n",
    "```C#\n",
    "型[] 変数名 = {値, 値}\n",
    "```"
   ]
  }
 ],
 "metadata": {
  "language_info": {
   "name": "csharp"
  },
  "orig_nbformat": 4
 },
 "nbformat": 4,
 "nbformat_minor": 2
}
