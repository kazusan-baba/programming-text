{
 "cells": [
  {
   "attachments": {},
   "cell_type": "markdown",
   "metadata": {},
   "source": [
    "## 条件分岐\n",
    "\n",
    "条件によってプログラムの動作を変えたいというときに「if文」を使います。「if文」は下記の通りに書きます。\n",
    "```C#\n",
    "if(条件式) {\n",
    "    条件にあった時の処理内容\n",
    "}\n",
    "\n",
    "```\n",
    "\n",
    "    if文は条件式の結果が最終的にTrueになった時に処理が動きます。\n",
    "    条件式には比較演算子「==」「>」「<」がよく用いられます。"
   ]
  },
  {
   "cell_type": "code",
   "execution_count": null,
   "metadata": {
    "vscode": {
     "languageId": "polyglot-notebook"
    }
   },
   "outputs": [],
   "source": [
    "int time = 10;\n",
    "\n",
    "if (true) {\n",
    "    // time(時間)が14の時に「こんにちは」と表示するプログラムを作ろう\n",
    "}"
   ]
  },
  {
   "attachments": {},
   "cell_type": "markdown",
   "metadata": {},
   "source": [
    "「if文」に条件をさらに追加したいときは「else - if」で追加していきます。そして最後にどの条件にも当てはまらない時の処理を「else」で作ります。\n",
    "```C#\n",
    "if(条件式) {\n",
    "    条件にあった時の処理内容\n",
    "} else if() {\n",
    "    条件にあった時の処理内容\n",
    "} else {\n",
    "    どの条件にも当てはまらない時の処理内容\n",
    "}\n",
    "```"
   ]
  },
  {
   "cell_type": "code",
   "execution_count": null,
   "metadata": {
    "vscode": {
     "languageId": "polyglot-notebook"
    }
   },
   "outputs": [],
   "source": [
    "int time = 0;\n",
    "\n",
    "//各時間にあった挨拶を表示するプログラムを作ろう"
   ]
  }
 ],
 "metadata": {
  "language_info": {
   "name": "csharp"
  },
  "orig_nbformat": 4
 },
 "nbformat": 4,
 "nbformat_minor": 2
}
