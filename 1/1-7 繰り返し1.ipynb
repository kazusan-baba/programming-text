{
 "cells": [
  {
   "attachments": {},
   "cell_type": "markdown",
   "metadata": {},
   "source": [
    "## 繰り返し\n",
    "\n",
    "同じプログラムを何度も動かす時に「while文」を使います。\n",
    "```C#\n",
    "while (条件式)\n",
    "{\n",
    "    // 処理\n",
    "}\n",
    "\n",
    "```\n",
    "\n",
    "    条件式が「False」になるまでずっと動き続けます。"
   ]
  },
  {
   "attachments": {},
   "cell_type": "markdown",
   "metadata": {},
   "source": [
    "こんにちはを10回表示するプログラムを作ってみましょう。\n",
    "\n",
    "    ヒント:10回をカウントするための変数も用意しよう"
   ]
  },
  {
   "attachments": {},
   "cell_type": "markdown",
   "metadata": {},
   "source": []
  }
 ],
 "metadata": {
  "language_info": {
   "name": "csharp"
  },
  "orig_nbformat": 4
 },
 "nbformat": 4,
 "nbformat_minor": 2
}
