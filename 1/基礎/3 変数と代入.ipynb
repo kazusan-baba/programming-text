{
 "cells": [
  {
   "attachments": {},
   "cell_type": "markdown",
   "metadata": {},
   "source": [
    "## 変数\n",
    "    1-1で「Console.WriteLine(\"こんにちは\");」と入力して「こんにちは」と表示させました。\n",
    "    「Console.WriteLine(\"こんにちは\");」の「\"こんにちは\"」は定数といいます。定数とは「固定した数字」で値が固定されています。\n",
    "    なので、この状態では「\"こんにちは\"」以外絶対に表示されません。\n",
    "    プログラミングで何かを作るとき値が変わらないというのは不便で使い勝手が悪いです。\n",
    "    なので「変数」というものを使います。変数とは文字の通り「変わる数字」で値を自由に変えることができます。"
   ]
  },
  {
   "attachments": {},
   "cell_type": "markdown",
   "metadata": {},
   "source": [
    "    まず、最初に下のプログラムを一旦実行してみましょう。「こんにちは」と表示されると思います。\n",
    "    では、「Strwing message = \"こんにちは\";」の「こんにちは」を「こんばんは」に変えて実行してみましょう。"
   ]
  },
  {
   "cell_type": "code",
   "execution_count": null,
   "metadata": {
    "dotnet_interactive": {
     "language": "csharp"
    },
    "polyglot_notebook": {
     "kernelName": "csharp"
    },
    "vscode": {
     "languageId": "polyglot-notebook"
    }
   },
   "outputs": [],
   "source": [
    "String message = \"こんにちは\";\n",
    "Console.WriteLine(message);"
   ]
  },
  {
   "attachments": {},
   "cell_type": "markdown",
   "metadata": {},
   "source": [
    "    「こんばんは」と表示されたと思います。\n",
    "    これの何が凄いかというと「Console.WriteLine(message);」の部分を一切変えていないのに表示内容を変えれていることです。\n",
    "    「String message = \"こんにちは\";」の例では「message」という変数を作りそこに「\"こんばんは\"」という文字を代入しています。"
   ]
  }
 ],
 "metadata": {
  "language_info": {
   "name": "csharp"
  },
  "orig_nbformat": 4
 },
 "nbformat": 4,
 "nbformat_minor": 2
}
