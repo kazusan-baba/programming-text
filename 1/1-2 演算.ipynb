{
 "cells": [
  {
   "attachments": {},
   "cell_type": "markdown",
   "metadata": {},
   "source": [
    "## 四則演算\n",
    "Console.WriteLine();<br>\n",
    "この「()」の中で色々できます。<br>\n",
    "では試しに四則演算をしてみましょう<br>\n",
    "「()」の中に「1+1」と入力し実行してみましょう。<br>"
   ]
  },
  {
   "cell_type": "code",
   "execution_count": null,
   "metadata": {
    "dotnet_interactive": {
     "language": "csharp"
    },
    "polyglot_notebook": {
     "kernelName": "csharp"
    },
    "vscode": {
     "languageId": "polyglot-notebook"
    }
   },
   "outputs": [],
   "source": [
    "Console.WriteLine();"
   ]
  },
  {
   "attachments": {},
   "cell_type": "markdown",
   "metadata": {},
   "source": [
    "「2」と表示されましたね。\n",
    "プログラムでは\n",
    "- 足し算の記号は「+」\n",
    "- 引き算の記号は「-」\n",
    "<br>\n",
    "ここまではいつも通り変わりありません。\n",
    "- 掛け算の記号は「*」\n",
    "- 割り算の記号は「/」\n",
    "<br>\n",
    "このように掛け算と割り算はいつもとは違う記号を使うので覚えておきましょう。"
   ]
  }
 ],
 "metadata": {
  "language_info": {
   "name": "python"
  },
  "orig_nbformat": 4
 },
 "nbformat": 4,
 "nbformat_minor": 2
}
