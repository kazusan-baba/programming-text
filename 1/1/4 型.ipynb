{
 "cells": [
  {
   "attachments": {},
   "cell_type": "markdown",
   "metadata": {},
   "source": [
    "## 型\n",
    "    1-3では「String message = \"こんにちは\";」と書きましたが、これをもっと詳しく説明すると、「文字列型の変数『message』を作りそこに、文字列の『こんにちは』と代入している」です。\n",
    "    変数を宣言するにあたりその変数の入れ物として適切な「型」を指定する必要があります。\n",
    "\n",
    "主な型\n",
    "- 整数：int\n",
    "- 小数：double\n",
    "- 文字列：String (文字列を代入する時はその文字を「\"\"(ダブルクォーテーション)」で囲う必要があります。)\n",
    "- 真偽値：bool\n",
    "\n",
    "一旦下記のプログラムを実行してみましょう。それぞれの値が表示されると思います。\n",
    "    また表示することができたら、「number1」に文字列を代入させてみましょう。\n",
    "    そうするとエラーが出ると思います。これで値にあった型を設定しなくてはならないというルールがわかったかと思います。"
   ]
  },
  {
   "cell_type": "code",
   "execution_count": null,
   "metadata": {
    "dotnet_interactive": {
     "language": "csharp"
    },
    "polyglot_notebook": {
     "kernelName": "csharp"
    },
    "vscode": {
     "languageId": "polyglot-notebook"
    }
   },
   "outputs": [],
   "source": [
    "int number1 = 0;\n",
    "double number2 = 0.1;\n",
    "String message = \"こんにちは\";\n",
    "bool isTrue = true;\n",
    "\n",
    "Console.WriteLine(number1);\n",
    "Console.WriteLine(number2);\n",
    "Console.WriteLine(message);\n",
    "Console.WriteLine(isTrue);"
   ]
  },
  {
   "attachments": {},
   "cell_type": "markdown",
   "metadata": {},
   "source": [
    "    \n",
    "    この他にもたくさんの型があり、この型を自分で作る必要があります。"
   ]
  }
 ],
 "metadata": {
  "language_info": {
   "name": "csharp"
  },
  "orig_nbformat": 4
 },
 "nbformat": 4,
 "nbformat_minor": 2
}
