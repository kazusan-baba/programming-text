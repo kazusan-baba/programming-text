{
 "cells": [
  {
   "attachments": {},
   "cell_type": "markdown",
   "metadata": {},
   "source": [
    "## 変数\n",
    "プログラミングでは変数というものをよく使います。\n",
    "\n",
    "### 変数と定数\n",
    "- 変数とは「変わる数字」で値を自由に変えることができます。\n",
    "- 定数とは「固定した数字」で値が固定されています。変数の反対。\n",
    "\n",
    "1-出力で「Console.WriteLine(\"こんにちは\");」と入力し、『こんにちは』と表示させました。  \n",
    "「Console.WriteLine(\"こんにちは\");」の「\"こんにちは\"」が定数にあたります。この状態では『こんにちは』以外絶対に表示されません。  \n",
    "プログラムをするとき、値が変わらないは不便で使い勝手が悪いです。\n",
    "なので「変数」を使います。"
   ]
  },
  {
   "attachments": {},
   "cell_type": "markdown",
   "metadata": {},
   "source": [
    "まず、最初に下のプログラムを実行してみましょう。『こんにちは』と表示されると思います。  \n",
    "では、「String message = \"こんにちは\";」の「こんにちは」を「こんばんは」に変えて実行してみましょう。"
   ]
  },
  {
   "cell_type": "code",
   "execution_count": null,
   "metadata": {
    "dotnet_interactive": {
     "language": "csharp"
    },
    "polyglot_notebook": {
     "kernelName": "csharp"
    },
    "vscode": {
     "languageId": "polyglot-notebook"
    }
   },
   "outputs": [],
   "source": [
    "String message = \"こんにちは\";\n",
    "Console.WriteLine(message);"
   ]
  },
  {
   "attachments": {},
   "cell_type": "markdown",
   "metadata": {},
   "source": [
    "『こんばんは』と表示されたと思います。\n",
    "これで「Console.WriteLine(message);」の部分を一切変えずに表示内容を変更できました。\n",
    "```C#\n",
    "String message = \"こんにちは\";\n",
    "```\n",
    "\n",
    "この例では「message」という変数を作りそこに「\"こんばんは\"」という文字を代入しています。"
   ]
  },
  {
   "cell_type": "code",
   "execution_count": null,
   "metadata": {
    "dotnet_interactive": {
     "language": "csharp"
    },
    "polyglot_notebook": {
     "kernelName": "csharp"
    },
    "vscode": {
     "languageId": "polyglot-notebook"
    }
   },
   "outputs": [],
   "source": [
    "//好きにプログラムを入力していいよ\n"
   ]
  }
 ],
 "metadata": {
  "language_info": {
   "name": "csharp"
  },
  "orig_nbformat": 4
 },
 "nbformat": 4,
 "nbformat_minor": 2
}
